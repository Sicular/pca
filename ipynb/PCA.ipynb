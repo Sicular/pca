{
 "cells": [
  {
   "cell_type": "code",
   "execution_count": 2,
   "metadata": {},
   "outputs": [],
   "source": [
    "import numpy as np"
   ]
  },
  {
   "cell_type": "code",
   "execution_count": 3,
   "metadata": {},
   "outputs": [],
   "source": [
    "input = np.load('/data1/intern/hanl/find_polygon/input/basic/00.npy')"
   ]
  },
  {
   "cell_type": "code",
   "execution_count": 15,
   "metadata": {},
   "outputs": [
    {
     "name": "stdout",
     "output_type": "stream",
     "text": [
      "(3303,)\n"
     ]
    }
   ],
   "source": [
    "sum = np.zeros(input.shape[0]).T\n",
    "print(sum.shape)\n",
    "for i in range(input.shape[1]):\n",
    "    xi = input[:,i]\n",
    "    sum+=xi\n",
    "sum /= input.shape[1]\n"
   ]
  },
  {
   "cell_type": "code",
   "execution_count": 21,
   "metadata": {},
   "outputs": [
    {
     "data": {
      "text/plain": [
       "array([[1., 1., 1., ..., 0., 0., 0.],\n",
       "       [1., 1., 1., ..., 0., 0., 0.],\n",
       "       [1., 1., 1., ..., 0., 0., 0.],\n",
       "       ...,\n",
       "       [0., 0., 0., ..., 0., 0., 0.],\n",
       "       [0., 0., 0., ..., 0., 0., 0.],\n",
       "       [0., 0., 0., ..., 0., 0., 0.]], dtype=float32)"
      ]
     },
     "execution_count": 21,
     "metadata": {},
     "output_type": "execute_result"
    }
   ],
   "source": [
    "std_input = np.copy(input).astype(np.float32)\n",
    "std_input"
   ]
  },
  {
   "cell_type": "code",
   "execution_count": 22,
   "metadata": {},
   "outputs": [],
   "source": [
    "for i in range(input.shape[1]):\n",
    "    std_input[:,i] -=sum"
   ]
  },
  {
   "cell_type": "code",
   "execution_count": 23,
   "metadata": {},
   "outputs": [],
   "source": [
    "S = std_input@std_input.T/input.shape[1]"
   ]
  },
  {
   "cell_type": "code",
   "execution_count": 24,
   "metadata": {},
   "outputs": [
    {
     "data": {
      "text/plain": [
       "array([[1.9840314e+08, 1.8188565e+08, 1.4472237e+08, ..., 3.9097076e+07,\n",
       "        2.6673774e+07, 3.1685738e+06],\n",
       "       [1.8188565e+08, 3.7444512e+08, 3.0420208e+08, ..., 1.0195285e+08,\n",
       "        5.3245360e+07, 7.3025430e+06],\n",
       "       [1.4472237e+08, 3.0420208e+08, 6.9269670e+08, ..., 2.0517966e+08,\n",
       "        1.0726580e+08, 2.6490092e+07],\n",
       "       ...,\n",
       "       [3.9097076e+07, 1.0195285e+08, 2.0517966e+08, ..., 7.8035629e+08,\n",
       "        4.5373242e+08, 2.5216269e+08],\n",
       "       [2.6673774e+07, 5.3245360e+07, 1.0726580e+08, ..., 4.5373242e+08,\n",
       "        5.4020986e+08, 3.0282589e+08],\n",
       "       [3.1685738e+06, 7.3025430e+06, 2.6490092e+07, ..., 2.5216269e+08,\n",
       "        3.0282589e+08, 3.3235235e+08]], dtype=float32)"
      ]
     },
     "execution_count": 24,
     "metadata": {},
     "output_type": "execute_result"
    }
   ],
   "source": [
    "S"
   ]
  },
  {
   "cell_type": "code",
   "execution_count": 36,
   "metadata": {},
   "outputs": [],
   "source": [
    "eigen_value, eigen_vector = np.linalg.eig(S)"
   ]
  },
  {
   "cell_type": "code",
   "execution_count": 37,
   "metadata": {},
   "outputs": [],
   "source": [
    "per_eig = eigen_value/np.sum(eigen_value)"
   ]
  },
  {
   "cell_type": "code",
   "execution_count": 38,
   "metadata": {},
   "outputs": [],
   "source": [
    "count =0\n",
    "sum_per =0\n",
    "for i in per_eig:\n",
    "    sum_per+=i\n",
    "    count+=1\n",
    "    if (sum_per>0.99): break"
   ]
  },
  {
   "cell_type": "code",
   "execution_count": 48,
   "metadata": {},
   "outputs": [],
   "source": [
    "Uk = eigen_vector[:,:count]"
   ]
  },
  {
   "cell_type": "code",
   "execution_count": 50,
   "metadata": {},
   "outputs": [],
   "source": [
    "pca = np.dot(Uk.T,std_input)"
   ]
  },
  {
   "cell_type": "code",
   "execution_count": 52,
   "metadata": {},
   "outputs": [
    {
     "data": {
      "text/plain": [
       "array([[ -4306.6455,  -4306.6455,  -4306.6455, ...,  -4307.6455,\n",
       "         -4307.6455,  -4307.6455],\n",
       "       [ -8141.3306,  -8141.3306,  -8141.3306, ...,  -8142.3306,\n",
       "         -8142.3306,  -8142.3306],\n",
       "       [-16768.5   , -16768.5   , -16768.5   , ..., -16769.5   ,\n",
       "        -16769.5   , -16769.5   ],\n",
       "       ...,\n",
       "       [-18870.662 , -18870.662 , -18870.662 , ..., -18870.662 ,\n",
       "        -18870.662 , -18870.662 ],\n",
       "       [-11031.384 , -11031.384 , -11031.384 , ..., -11031.384 ,\n",
       "        -11031.384 , -11031.384 ],\n",
       "       [ -6462.7803,  -6462.7803,  -6462.7803, ...,  -6462.7803,\n",
       "         -6462.7803,  -6462.7803]], dtype=float32)"
      ]
     },
     "execution_count": 52,
     "metadata": {},
     "output_type": "execute_result"
    }
   ],
   "source": [
    "std_input"
   ]
  },
  {
   "cell_type": "code",
   "execution_count": 51,
   "metadata": {},
   "outputs": [
    {
     "data": {
      "text/plain": [
       "array([[-9.6964800e+05, -9.6857394e+05, -9.6673256e+05, ...,\n",
       "         1.5181695e+06,  4.3513322e+05, -2.1499769e+05],\n",
       "       [ 4.1745068e+03,  4.2219233e+03,  4.0614385e+03, ...,\n",
       "         4.7253769e+05,  3.6417406e+05,  2.5591308e+05],\n",
       "       [-2.3082285e+03, -2.0631055e+03, -1.9183926e+03, ...,\n",
       "        -6.9385075e+05, -5.8710638e+05, -4.2948512e+05],\n",
       "       ...,\n",
       "       [-2.7027222e+02, -2.3349890e+02, -3.8674561e+02, ...,\n",
       "         1.6015146e+04, -9.6666943e+03,  4.7925752e+03],\n",
       "       [ 7.9334021e+02,  7.3951013e+02,  6.4182629e+02, ...,\n",
       "         1.0170580e+04, -3.1815273e+03,  6.5159014e+03],\n",
       "       [ 7.6675854e+02,  7.6086780e+02,  8.0284583e+02, ...,\n",
       "        -3.1305320e+03, -2.5719485e+03,  1.5267506e+04]], dtype=float32)"
      ]
     },
     "execution_count": 51,
     "metadata": {},
     "output_type": "execute_result"
    }
   ],
   "source": [
    "pca"
   ]
  },
  {
   "cell_type": "code",
   "execution_count": 5,
   "metadata": {},
   "outputs": [],
   "source": [
    "a = [[1,2],[3,4]]\n",
    "b = np.mean(a, axis=0)"
   ]
  },
  {
   "cell_type": "code",
   "execution_count": 6,
   "metadata": {},
   "outputs": [
    {
     "data": {
      "text/plain": [
       "array([2., 3.])"
      ]
     },
     "execution_count": 6,
     "metadata": {},
     "output_type": "execute_result"
    }
   ],
   "source": [
    "b.T\n"
   ]
  }
 ],
 "metadata": {
  "kernelspec": {
   "display_name": "base",
   "language": "python",
   "name": "python3"
  },
  "language_info": {
   "codemirror_mode": {
    "name": "ipython",
    "version": 3
   },
   "file_extension": ".py",
   "mimetype": "text/x-python",
   "name": "python",
   "nbconvert_exporter": "python",
   "pygments_lexer": "ipython3",
   "version": "3.8.8"
  },
  "orig_nbformat": 4,
  "vscode": {
   "interpreter": {
    "hash": "f0cbc8d39e2c910eff8684fa9a53892924e930afdeb920b71e62694c678fa8d0"
   }
  }
 },
 "nbformat": 4,
 "nbformat_minor": 2
}
